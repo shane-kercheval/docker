{
 "cells": [
  {
   "cell_type": "markdown",
   "id": "88823586",
   "metadata": {},
   "source": [
    "https://www.oreilly.com/catalog/errata.csp?isbn=0636920142874"
   ]
  },
  {
   "cell_type": "code",
   "execution_count": 3,
   "id": "a9c03e24",
   "metadata": {},
   "outputs": [
    {
     "name": "stdout",
     "output_type": "stream",
     "text": [
      "tensorflow version: 2.9.1\n",
      "keras version: 2.9.0\n",
      "Num GPUs Available:  1\n"
     ]
    }
   ],
   "source": [
    "import tensorflow as tf;\n",
    "from tensorflow import keras\n",
    "import matplotlib as mpl\n",
    "import matplotlib.pyplot as plt\n",
    "\n",
    "\n",
    "print(f'tensorflow version: {tf.__version__}')\n",
    "print(f'keras version: {keras.__version__}')\n",
    "print('Num GPUs Available: ', len(tf.config.list_physical_devices('GPU')))"
   ]
  },
  {
   "cell_type": "markdown",
   "id": "b8c2fbd7",
   "metadata": {},
   "source": [
    "---"
   ]
  },
  {
   "cell_type": "code",
   "execution_count": null,
   "id": "3a0d2044",
   "metadata": {},
   "outputs": [],
   "source": [
    "import numpy as np\n",
    "def heaviside(z):\n",
    "    return (z >= 0).astype(z.dtype)\n",
    "\n",
    "def mlp_xor(x1, x2, activation=heaviside):\n",
    "    return activation(-activation(x1 + x2 - 1.5) + activation(x1 + x2 - 0.5) - 0.5)\n",
    "\n",
    "# activation functions\n",
    "def sigmoid(z):\n",
    "    return 1 / (1 + np.exp(-z))\n",
    "\n",
    "def relu(z):\n",
    "    return np.maximum(0, z)\n",
    "\n",
    "def derivative(f, z, eps=0.000001):\n",
    "    return (f(z + eps) - f(z - eps))/(2 * eps)"
   ]
  },
  {
   "cell_type": "code",
   "execution_count": null,
   "id": "5704198f",
   "metadata": {},
   "outputs": [],
   "source": [
    "np.set_printoptions(suppress=True, formatter={'float_kind':'{:f}'.format})"
   ]
  },
  {
   "cell_type": "code",
   "execution_count": null,
   "id": "571fb68d",
   "metadata": {},
   "outputs": [],
   "source": [
    "z = np.array([-1, 0, 0.1, 0.5, 0.9, 1, 2])\n",
    "print(z)\n",
    "print(relu(z))\n",
    "print(derivative(relu, z))"
   ]
  },
  {
   "cell_type": "code",
   "execution_count": null,
   "id": "86fb060d",
   "metadata": {},
   "outputs": [],
   "source": [
    "eps=0.000001\n",
    "print(relu(0 + eps))\n",
    "print(relu(0 - eps))\n",
    "print(relu(0 + eps) - relu(0 - eps))\n",
    "print(2*eps)\n",
    "print(1e-06 / (2*eps))"
   ]
  },
  {
   "cell_type": "markdown",
   "id": "3bbddf2f",
   "metadata": {},
   "source": [
    "---"
   ]
  },
  {
   "cell_type": "code",
   "execution_count": null,
   "id": "8b07e27b",
   "metadata": {},
   "outputs": [],
   "source": [
    "fashion_mnist = keras.datasets.fashion_mnist\n",
    "(X_train_full, y_train_full), (X_test, y_test) = fashion_mnist.load_data()"
   ]
  },
  {
   "cell_type": "code",
   "execution_count": null,
   "id": "91c38e84",
   "metadata": {},
   "outputs": [],
   "source": [
    "X_train_full.shape"
   ]
  },
  {
   "cell_type": "code",
   "execution_count": null,
   "id": "e01c47de",
   "metadata": {},
   "outputs": [],
   "source": [
    "y_train_full.shape"
   ]
  },
  {
   "cell_type": "code",
   "execution_count": null,
   "id": "424bf624",
   "metadata": {},
   "outputs": [],
   "source": [
    "# category of clothing\n",
    "y_train_full[0:10]"
   ]
  },
  {
   "cell_type": "code",
   "execution_count": null,
   "id": "6e8d7502",
   "metadata": {},
   "outputs": [],
   "source": [
    "X_valid, X_train = X_train_full[:5000] / 255., X_train_full[5000:] / 255.\n",
    "y_valid, y_train = y_train_full[:5000], y_train_full[5000:]\n",
    "X_test = X_test / 255."
   ]
  },
  {
   "cell_type": "code",
   "execution_count": null,
   "id": "8c114ad6",
   "metadata": {},
   "outputs": [],
   "source": [
    "len(X_test)"
   ]
  },
  {
   "cell_type": "code",
   "execution_count": null,
   "id": "d5ec167a",
   "metadata": {},
   "outputs": [],
   "source": [
    "X_test[0].reshape(-1, 1)[0:300]"
   ]
  },
  {
   "cell_type": "code",
   "execution_count": null,
   "id": "f9bbfe12",
   "metadata": {},
   "outputs": [],
   "source": [
    "plt.imshow(X_train[0], cmap=\"binary\")\n",
    "plt.axis('off')\n",
    "plt.show()"
   ]
  },
  {
   "cell_type": "code",
   "execution_count": null,
   "id": "468d2fb0",
   "metadata": {},
   "outputs": [],
   "source": [
    "class_names = [\"T-shirt/top\", \"Trouser\", \"Pullover\", \"Dress\", \"Coat\",\n",
    "               \"Sandal\", \"Shirt\", \"Sneaker\", \"Bag\", \"Ankle boot\"]"
   ]
  },
  {
   "cell_type": "code",
   "execution_count": null,
   "id": "f4f60c02",
   "metadata": {},
   "outputs": [],
   "source": [
    "class_names[y_train[0]]"
   ]
  },
  {
   "cell_type": "code",
   "execution_count": null,
   "id": "ecc6170b",
   "metadata": {},
   "outputs": [],
   "source": [
    "n_rows = 4\n",
    "n_cols = 10\n",
    "plt.figure(figsize=(n_cols * 1.2, n_rows * 1.2))\n",
    "for row in range(n_rows):\n",
    "    for col in range(n_cols):\n",
    "        index = n_cols * row + col\n",
    "        plt.subplot(n_rows, n_cols, index + 1)\n",
    "        plt.imshow(X_train[index], cmap=\"binary\", interpolation=\"nearest\")\n",
    "        plt.axis('off')\n",
    "        plt.title(class_names[y_train[index]], fontsize=12)\n",
    "plt.subplots_adjust(wspace=0.2, hspace=0.5)\n",
    "#save_fig('fashion_mnist_plot', tight_layout=False)\n",
    "plt.show()"
   ]
  },
  {
   "cell_type": "code",
   "execution_count": null,
   "id": "fd967bc8",
   "metadata": {},
   "outputs": [],
   "source": [
    "model = keras.models.Sequential()\n",
    "model.add(keras.layers.Flatten(input_shape=[28, 28]))\n",
    "model.add(keras.layers.Dense(300, activation=\"relu\"))\n",
    "model.add(keras.layers.Dense(100, activation=\"relu\"))\n",
    "model.add(keras.layers.Dense(10, activation=\"softmax\"))\n",
    "model.summary()"
   ]
  },
  {
   "cell_type": "code",
   "execution_count": null,
   "id": "edb86616",
   "metadata": {},
   "outputs": [],
   "source": [
    "model.compile(loss=\"sparse_categorical_crossentropy\",\n",
    "              optimizer=\"sgd\",\n",
    "              metrics=[\"accuracy\"])"
   ]
  },
  {
   "cell_type": "code",
   "execution_count": null,
   "id": "2ac2c57e",
   "metadata": {},
   "outputs": [],
   "source": [
    "# note the 1719 shown during training is not training size it is number of batches\n",
    "len(X_train) / 32"
   ]
  },
  {
   "cell_type": "code",
   "execution_count": null,
   "id": "6c6e925a",
   "metadata": {},
   "outputs": [],
   "source": [
    "history = model.fit(X_train, y_train, epochs=30,\n",
    "                    validation_data=(X_valid, y_valid))"
   ]
  },
  {
   "cell_type": "code",
   "execution_count": null,
   "id": "a62a2410",
   "metadata": {},
   "outputs": [],
   "source": [
    "history.history.keys()"
   ]
  },
  {
   "cell_type": "code",
   "execution_count": null,
   "id": "1481e14b",
   "metadata": {},
   "outputs": [],
   "source": [
    "import pandas as pd\n",
    "\n",
    "pd.DataFrame(history.history).plot(figsize=(8, 5))\n",
    "plt.grid(True)\n",
    "plt.gca().set_ylim(0, 1)\n",
    "plt.show()"
   ]
  },
  {
   "cell_type": "code",
   "execution_count": null,
   "id": "74efd53f",
   "metadata": {},
   "outputs": [],
   "source": [
    "# note the 313 shown during training is not training size it is number of batches\n",
    "len(X_test) / 32"
   ]
  },
  {
   "cell_type": "code",
   "execution_count": null,
   "id": "8fee95d6",
   "metadata": {},
   "outputs": [],
   "source": [
    "model.evaluate(X_test, y_test)"
   ]
  },
  {
   "cell_type": "code",
   "execution_count": null,
   "id": "fb60d8e9",
   "metadata": {},
   "outputs": [],
   "source": [
    "X_new = X_test[:3]\n",
    "y_proba = model.predict(X_new)\n",
    "y_proba.round(2)"
   ]
  },
  {
   "cell_type": "code",
   "execution_count": null,
   "id": "428d6985",
   "metadata": {},
   "outputs": [],
   "source": [
    "plt.figure(figsize=(7.2, 2.4))\n",
    "for index, image in enumerate(X_new):\n",
    "    plt.subplot(1, 3, index + 1)\n",
    "    plt.imshow(image, cmap=\"binary\", interpolation=\"nearest\")\n",
    "    plt.axis('off')\n",
    "    plt.title(class_names[y_test[index]], fontsize=12)\n",
    "plt.subplots_adjust(wspace=0.2, hspace=0.5)\n",
    "plt.show()"
   ]
  },
  {
   "cell_type": "markdown",
   "id": "44211e0f",
   "metadata": {},
   "source": [
    "**Warning**: `model.predict_classes(X_new)` is deprecated. It is replaced with `np.argmax(model.predict(X_new), axis=-1)`.\n",
    "\n",
    "https://stackoverflow.com/questions/68776790/model-predict-classes-is-deprecated-what-to-use-instead"
   ]
  },
  {
   "cell_type": "code",
   "execution_count": null,
   "id": "ef23cebb",
   "metadata": {},
   "outputs": [],
   "source": [
    "import numpy as np\n",
    "np.argmax(model.predict(X_new), axis=-1)"
   ]
  },
  {
   "cell_type": "markdown",
   "id": "dd136e70",
   "metadata": {},
   "source": [
    "---"
   ]
  },
  {
   "cell_type": "markdown",
   "id": "fe2aca9e",
   "metadata": {},
   "source": [
    "# TensorBoard"
   ]
  },
  {
   "cell_type": "code",
   "execution_count": null,
   "id": "ca294f3e",
   "metadata": {},
   "outputs": [],
   "source": [
    "from sklearn.datasets import fetch_california_housing\n",
    "from sklearn.model_selection import train_test_split\n",
    "from sklearn.preprocessing import StandardScaler\n",
    "\n",
    "housing = fetch_california_housing()\n",
    "\n",
    "X_train_full, X_test, y_train_full, y_test = train_test_split(housing.data, housing.target, random_state=42)\n",
    "X_train, X_valid, y_train, y_valid = train_test_split(X_train_full, y_train_full, random_state=42)\n",
    "\n",
    "scaler = StandardScaler()\n",
    "X_train = scaler.fit_transform(X_train)\n",
    "X_valid = scaler.transform(X_valid)\n",
    "X_test = scaler.transform(X_test)"
   ]
  },
  {
   "cell_type": "code",
   "execution_count": null,
   "id": "e834843d",
   "metadata": {},
   "outputs": [],
   "source": [
    "import os\n",
    "import numpy as np\n",
    "root_logdir = os.path.join(os.curdir, \"tensorflow_logs\")\n",
    "print(root_logdir)"
   ]
  },
  {
   "cell_type": "code",
   "execution_count": null,
   "id": "a696feaf",
   "metadata": {},
   "outputs": [],
   "source": [
    "def get_run_logdir():\n",
    "    import time\n",
    "    run_id = time.strftime(\"run_%Y_%m_%d-%H_%M_%S\")\n",
    "    return os.path.join(root_logdir, run_id)\n",
    "\n",
    "run_logdir = get_run_logdir()\n",
    "run_logdir"
   ]
  },
  {
   "cell_type": "code",
   "execution_count": null,
   "id": "61f922d8",
   "metadata": {},
   "outputs": [],
   "source": [
    "keras.backend.clear_session()\n",
    "np.random.seed(42)\n",
    "tf.random.set_seed(42)"
   ]
  },
  {
   "cell_type": "code",
   "execution_count": null,
   "id": "82e626cd",
   "metadata": {},
   "outputs": [],
   "source": [
    "model = keras.models.Sequential([\n",
    "    keras.layers.Dense(30, activation=\"relu\", input_shape=[8]),\n",
    "    keras.layers.Dense(30, activation=\"relu\"),\n",
    "    keras.layers.Dense(1)\n",
    "])    \n",
    "model.compile(loss=\"mse\", optimizer=keras.optimizers.SGD(learning_rate=1e-3))"
   ]
  },
  {
   "cell_type": "code",
   "execution_count": null,
   "id": "2280ca2f",
   "metadata": {},
   "outputs": [],
   "source": [
    "tensorboard_cb = keras.callbacks.TensorBoard(run_logdir)\n",
    "checkpoint_cb = keras.callbacks.ModelCheckpoint(\"my_keras_model.h5\", save_best_only=True)\n",
    "history = model.fit(\n",
    "    X_train, y_train, epochs=30,\n",
    "    validation_data=(X_valid, y_valid),\n",
    "    callbacks=[checkpoint_cb, tensorboard_cb]\n",
    ")"
   ]
  },
  {
   "cell_type": "code",
   "execution_count": null,
   "id": "9660d08d",
   "metadata": {},
   "outputs": [],
   "source": [
    "# %load_ext tensorboard\n",
    "# %tensorboard --logdir=.my_logs --port=6006"
   ]
  },
  {
   "cell_type": "markdown",
   "id": "dc101695",
   "metadata": {},
   "source": [
    "---"
   ]
  },
  {
   "cell_type": "markdown",
   "id": "d79c0bab",
   "metadata": {},
   "source": [
    "# Callbacks and Early Stopping"
   ]
  },
  {
   "cell_type": "code",
   "execution_count": 4,
   "id": "c72fc0e5",
   "metadata": {},
   "outputs": [],
   "source": [
    "import numpy as np\n",
    "\n",
    "keras.backend.clear_session()\n",
    "np.random.seed(42)\n",
    "tf.random.set_seed(42)"
   ]
  },
  {
   "cell_type": "code",
   "execution_count": 5,
   "id": "3c80071a",
   "metadata": {},
   "outputs": [],
   "source": [
    "from sklearn.datasets import fetch_california_housing\n",
    "from sklearn.model_selection import train_test_split\n",
    "from sklearn.preprocessing import StandardScaler\n",
    "\n",
    "housing = fetch_california_housing()\n",
    "\n",
    "X_train_full, X_test, y_train_full, y_test = train_test_split(housing.data, housing.target, random_state=42)\n",
    "X_train, X_valid, y_train, y_valid = train_test_split(X_train_full, y_train_full, random_state=42)\n",
    "\n",
    "scaler = StandardScaler()\n",
    "X_train = scaler.fit_transform(X_train)\n",
    "X_valid = scaler.transform(X_valid)\n",
    "X_test = scaler.transform(X_test)"
   ]
  },
  {
   "cell_type": "code",
   "execution_count": 6,
   "id": "b8ed0986",
   "metadata": {},
   "outputs": [
    {
     "data": {
      "text/plain": [
       "2.063185914728682"
      ]
     },
     "execution_count": 6,
     "metadata": {},
     "output_type": "execute_result"
    }
   ],
   "source": [
    "y_test.mean()"
   ]
  },
  {
   "cell_type": "code",
   "execution_count": 7,
   "id": "b15f38d8",
   "metadata": {},
   "outputs": [
    {
     "name": "stderr",
     "output_type": "stream",
     "text": [
      "2022-07-10 20:21:20.144477: I tensorflow/core/platform/cpu_feature_guard.cc:193] This TensorFlow binary is optimized with oneAPI Deep Neural Network Library (oneDNN) to use the following CPU instructions in performance-critical operations:  AVX2 FMA\n",
      "To enable them in other operations, rebuild TensorFlow with the appropriate compiler flags.\n",
      "2022-07-10 20:21:21.380420: I tensorflow/core/common_runtime/gpu/gpu_device.cc:1532] Created device /job:localhost/replica:0/task:0/device:GPU:0 with 10399 MB memory:  -> device: 0, name: NVIDIA GeForce GTX 1080 Ti, pci bus id: 0000:05:00.0, compute capability: 6.1\n"
     ]
    }
   ],
   "source": [
    "model = keras.models.Sequential([\n",
    "    keras.layers.Dense(30, activation=\"relu\", input_shape=[8]),\n",
    "    keras.layers.Dense(30, activation=\"relu\"),\n",
    "    keras.layers.Dense(1)\n",
    "])\n",
    "model.compile(loss=\"mse\", optimizer=keras.optimizers.SGD(learning_rate=1e-3))"
   ]
  },
  {
   "cell_type": "code",
   "execution_count": 8,
   "id": "76c05a74",
   "metadata": {},
   "outputs": [
    {
     "name": "stdout",
     "output_type": "stream",
     "text": [
      "./tensorflow_logs\n",
      "./tensorflow_logs/run_2022_07_10-20_21_21\n"
     ]
    }
   ],
   "source": [
    "import os\n",
    "import numpy as np\n",
    "root_logdir = os.path.join(os.curdir, \"tensorflow_logs\")\n",
    "print(root_logdir)\n",
    "\n",
    "def get_run_logdir():\n",
    "    import time\n",
    "    run_id = time.strftime(\"run_%Y_%m_%d-%H_%M_%S\")\n",
    "    return os.path.join(root_logdir, run_id)\n",
    "\n",
    "run_logdir = get_run_logdir()\n",
    "print(run_logdir)"
   ]
  },
  {
   "cell_type": "code",
   "execution_count": 9,
   "id": "59a5023e",
   "metadata": {},
   "outputs": [],
   "source": [
    "tensorboard_cb = keras.callbacks.TensorBoard(run_logdir)\n",
    "checkpoint_cb = keras.callbacks.ModelCheckpoint(\"my_keras_model.h5\", save_best_only=True)\n",
    "early_stopping_cb = keras.callbacks.EarlyStopping(patience=10, restore_best_weights=True)"
   ]
  },
  {
   "cell_type": "code",
   "execution_count": 10,
   "id": "41f76f29",
   "metadata": {},
   "outputs": [
    {
     "name": "stdout",
     "output_type": "stream",
     "text": [
      "162/162 [==============================] - 2s 3ms/step - loss: 0.3393\n"
     ]
    }
   ],
   "source": [
    "history = model.fit(\n",
    "    X_train, y_train,\n",
    "    epochs=100,\n",
    "    validation_data=(X_valid, y_valid),\n",
    "    callbacks=[checkpoint_cb, early_stopping_cb, tensorboard_cb],\n",
    ")\n",
    "model = keras.models.load_model(\"my_keras_model.h5\") # rollback to best model\n",
    "mse_test = model.evaluate(X_test, y_test)"
   ]
  },
  {
   "cell_type": "code",
   "execution_count": 11,
   "id": "174e0c3e",
   "metadata": {},
   "outputs": [
    {
     "data": {
      "text/plain": [
       "0.339325487613678"
      ]
     },
     "execution_count": 11,
     "metadata": {},
     "output_type": "execute_result"
    }
   ],
   "source": [
    "mse_test"
   ]
  },
  {
   "cell_type": "code",
   "execution_count": 12,
   "id": "905689e7",
   "metadata": {},
   "outputs": [
    {
     "name": "stdout",
     "output_type": "stream",
     "text": [
      "162/162 [==============================] - 0s 2ms/step\n"
     ]
    }
   ],
   "source": [
    "y_test_pred = model.predict(X_test)"
   ]
  },
  {
   "cell_type": "code",
   "execution_count": 13,
   "id": "eb5abefe",
   "metadata": {},
   "outputs": [],
   "source": [
    "from helpsk.sklearn_eval import RegressionEvaluator\n",
    "results = RegressionEvaluator(actual_values=y_test, predicted_values=y_test_pred)"
   ]
  },
  {
   "cell_type": "code",
   "execution_count": 14,
   "id": "b8ee7518",
   "metadata": {},
   "outputs": [
    {
     "data": {
      "text/plain": [
       "0.33932539744236373"
      ]
     },
     "execution_count": 14,
     "metadata": {},
     "output_type": "execute_result"
    }
   ],
   "source": [
    "results.mean_squared_error"
   ]
  },
  {
   "cell_type": "code",
   "execution_count": 15,
   "id": "61b9790e",
   "metadata": {
    "scrolled": true
   },
   "outputs": [
    {
     "data": {
      "text/plain": [
       "{'Mean Absolute Error (MAE)': 0.412066138545698,\n",
       " 'Root Mean Squared Error (RMSE)': 0.5825164353409814,\n",
       " 'RMSE to Standard Deviation of Target': 0.5063985645889937,\n",
       " 'R Squared': 0.7435604937822069,\n",
       " 'Total Observations': 5160}"
      ]
     },
     "execution_count": 15,
     "metadata": {},
     "output_type": "execute_result"
    }
   ],
   "source": [
    "results.all_metrics"
   ]
  },
  {
   "cell_type": "markdown",
   "id": "01fe5e7d",
   "metadata": {},
   "source": [
    "---"
   ]
  },
  {
   "cell_type": "markdown",
   "id": "cfaa415a",
   "metadata": {},
   "source": [
    "# Hyperparameter Tuning"
   ]
  },
  {
   "cell_type": "code",
   "execution_count": 17,
   "id": "c8d23c33",
   "metadata": {},
   "outputs": [],
   "source": [
    "keras.backend.clear_session()\n",
    "np.random.seed(42)\n",
    "tf.random.set_seed(42)"
   ]
  },
  {
   "cell_type": "code",
   "execution_count": 18,
   "id": "78f369de",
   "metadata": {},
   "outputs": [],
   "source": [
    "def build_model(n_hidden=1, n_neurons=30, learning_rate=3e-3, input_shape=[8]):\n",
    "    model = keras.models.Sequential()\n",
    "    model.add(keras.layers.InputLayer(input_shape=input_shape))\n",
    "    for layer in range(n_hidden):\n",
    "        model.add(keras.layers.Dense(n_neurons, activation=\"relu\"))\n",
    "    model.add(keras.layers.Dense(1))\n",
    "    optimizer = keras.optimizers.SGD(learning_rate=learning_rate)\n",
    "    model.compile(loss=\"mse\", optimizer=optimizer)\n",
    "    return model"
   ]
  },
  {
   "cell_type": "code",
   "execution_count": 22,
   "id": "59d23245",
   "metadata": {},
   "outputs": [
    {
     "name": "stderr",
     "output_type": "stream",
     "text": [
      "/tmp/ipykernel_11/1709004121.py:1: DeprecationWarning: KerasRegressor is deprecated, use Sci-Keras (https://github.com/adriangb/scikeras) instead. See https://www.adriangb.com/scikeras/stable/migration.html for help migrating.\n",
      "  keras_reg = keras.wrappers.scikit_learn.KerasRegressor(build_model)\n"
     ]
    }
   ],
   "source": [
    "keras_reg = keras.wrappers.scikit_learn.KerasRegressor(build_model)"
   ]
  },
  {
   "cell_type": "code",
   "execution_count": 23,
   "id": "4ca2e919",
   "metadata": {},
   "outputs": [],
   "source": [
    "# keras_reg.fit(X_train, y_train, epochs=100,\n",
    "#               validation_data=(X_valid, y_valid),\n",
    "#               callbacks=[keras.callbacks.EarlyStopping(patience=10)])"
   ]
  },
  {
   "cell_type": "code",
   "execution_count": null,
   "id": "d64153d5",
   "metadata": {
    "scrolled": true
   },
   "outputs": [
    {
     "name": "stdout",
     "output_type": "stream",
     "text": [
      "Fitting 5 folds for each of 30 candidates, totalling 150 fits\n",
      "Epoch 1/100\n",
      "291/291 [==============================] - 2s 5ms/step - loss: 0.6993 - val_loss: 0.4683\n",
      "Epoch 2/100\n",
      "291/291 [==============================] - 1s 5ms/step - loss: 0.4401 - val_loss: 9.9101\n",
      "Epoch 3/100\n",
      "291/291 [==============================] - 1s 5ms/step - loss: 0.4064 - val_loss: 24.3733\n",
      "Epoch 4/100\n",
      "291/291 [==============================] - 1s 5ms/step - loss: 0.5167 - val_loss: 2.4425\n",
      "Epoch 5/100\n",
      "291/291 [==============================] - 1s 5ms/step - loss: 0.3947 - val_loss: 10.6780\n",
      "Epoch 6/100\n",
      "291/291 [==============================] - 1s 5ms/step - loss: 0.5892 - val_loss: 2.0233\n",
      "Epoch 7/100\n",
      "212/291 [====================>.........] - ETA: 0s - loss: nan"
     ]
    }
   ],
   "source": [
    "from scipy.stats import reciprocal\n",
    "from sklearn.model_selection import RandomizedSearchCV\n",
    "\n",
    "param_distribs = {\n",
    "    \"n_hidden\": [1, 2, 3],\n",
    "    \"n_neurons\": np.arange(1, 100)               .tolist(),\n",
    "    \"learning_rate\": reciprocal(3e-4, 3e-2)      .rvs(1000).tolist(),\n",
    "}\n",
    "\n",
    "rnd_search_cv = RandomizedSearchCV(\n",
    "    keras_reg, param_distribs, \n",
    "    scoring='neg_mean_squared_error',\n",
    "    n_iter=30,\n",
    "    cv=5,\n",
    "    verbose=2\n",
    ")\n",
    "rnd_search_cv.fit(\n",
    "    X_train, y_train,\n",
    "    epochs=100,\n",
    "    validation_data=(X_valid, y_valid),\n",
    "    callbacks=[keras.callbacks.EarlyStopping(patience=10)]\n",
    ")"
   ]
  },
  {
   "cell_type": "code",
   "execution_count": null,
   "id": "cb43d94f",
   "metadata": {},
   "outputs": [],
   "source": [
    "print(f\"Best Score: {rnd_search_cv.best_score_}\")\n",
    "print(f\"Best Params: {rnd_search_cv.best_params_}\")\n",
    "\n",
    "from helpsk.sklearn_eval import MLExperimentResults\n",
    "results = MLExperimentResults.from_sklearn_search_cv(\n",
    "    searcher=rnd_search_cv,\n",
    "    higher_score_is_better=True,\n",
    "    description='rnd_search_cv',\n",
    "    # parameter_name_mappings=css.get_search_space_mappings(),\n",
    ")"
   ]
  },
  {
   "cell_type": "code",
   "execution_count": null,
   "id": "f6435be9",
   "metadata": {},
   "outputs": [],
   "source": [
    "results.to_formatted_dataframe()"
   ]
  },
  {
   "cell_type": "code",
   "execution_count": null,
   "id": "5a45e5f5",
   "metadata": {},
   "outputs": [],
   "source": []
  },
  {
   "cell_type": "code",
   "execution_count": null,
   "id": "4bc2c6bd",
   "metadata": {},
   "outputs": [],
   "source": []
  },
  {
   "cell_type": "code",
   "execution_count": 44,
   "id": "88f3e320",
   "metadata": {},
   "outputs": [],
   "source": [
    "assert not np.isnan(X_train).any()"
   ]
  },
  {
   "cell_type": "code",
   "execution_count": 46,
   "id": "0ff91fb7",
   "metadata": {
    "scrolled": true
   },
   "outputs": [],
   "source": [
    "# from skopt import BayesSearchCV\n",
    "# from skopt.space import Categorical, Real, Integer\n",
    "# from sklearn.model_selection import RepeatedKFold\n",
    "\n",
    "# n_splits = 5\n",
    "# n_repeats = 2\n",
    "# random_state = 42\n",
    "# iterations = 30\n",
    "# search_space = {\n",
    "#     \"n_hidden\": Integer(0, 3),\n",
    "#     \"n_neurons\": Real(1, 100),\n",
    "#     \"learning_rate\": Real(3e-4, 3e-2),\n",
    "# }\n",
    "# bayes_search = BayesSearchCV(\n",
    "#     estimator=keras_reg,\n",
    "#     search_spaces=search_space,\n",
    "#     cv=RepeatedKFold(n_splits=n_splits, n_repeats=n_repeats, random_state=random_state),\n",
    "#     scoring='neg_mean_squared_error',\n",
    "#     n_iter=30,\n",
    "#     refit=True,\n",
    "#     return_train_score=False,\n",
    "#     # n_jobs=-1,  CUDA_ERROR_OUT_OF_MEMORY: out of memory\n",
    "#     verbose=1,\n",
    "#     random_state=random_state,\n",
    "# )\n",
    "# bayes_search.fit(\n",
    "#     X_train, y_train, epochs=100,\n",
    "#     validation_data=(X_valid, y_valid),\n",
    "#     callbacks=[keras.callbacks.EarlyStopping(patience=10)]\n",
    "# )\n",
    "# logging.info(f\"Best Score: {bayes_search.best_score_}\")\n",
    "# logging.info(f\"Best Params: {bayes_search.best_params_}\")\n",
    "\n",
    "# results = MLExperimentResults.from_sklearn_search_cv(\n",
    "#     searcher=bayes_search,\n",
    "#     higher_score_is_better=True,\n",
    "#     description='BayesSearchCV',\n",
    "#     parameter_name_mappings=css.get_search_space_mappings(),\n",
    "# )"
   ]
  },
  {
   "cell_type": "code",
   "execution_count": null,
   "id": "16f7ce60",
   "metadata": {},
   "outputs": [],
   "source": []
  },
  {
   "cell_type": "code",
   "execution_count": null,
   "id": "a6dbf7ae",
   "metadata": {},
   "outputs": [],
   "source": []
  },
  {
   "cell_type": "code",
   "execution_count": null,
   "id": "b2c4ccc9",
   "metadata": {},
   "outputs": [],
   "source": []
  }
 ],
 "metadata": {
  "kernelspec": {
   "display_name": "Python 3 (ipykernel)",
   "language": "python",
   "name": "python3"
  },
  "language_info": {
   "codemirror_mode": {
    "name": "ipython",
    "version": 3
   },
   "file_extension": ".py",
   "mimetype": "text/x-python",
   "name": "python",
   "nbconvert_exporter": "python",
   "pygments_lexer": "ipython3",
   "version": "3.9.5"
  }
 },
 "nbformat": 4,
 "nbformat_minor": 5
}
