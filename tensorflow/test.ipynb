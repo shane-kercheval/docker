{
 "cells": [
  {
   "cell_type": "markdown",
   "id": "88823586",
   "metadata": {},
   "source": [
    "https://www.oreilly.com/catalog/errata.csp?isbn=0636920142874"
   ]
  },
  {
   "cell_type": "code",
   "execution_count": 1,
   "id": "a9c03e24",
   "metadata": {},
   "outputs": [
    {
     "name": "stdout",
     "output_type": "stream",
     "text": [
      "tensorflow version: 2.9.1\n",
      "keras version: 2.9.0\n",
      "Num GPUs Available:  1\n"
     ]
    }
   ],
   "source": [
    "import tensorflow as tf;\n",
    "from tensorflow import keras\n",
    "import matplotlib as mpl\n",
    "import matplotlib.pyplot as plt\n",
    "\n",
    "\n",
    "print(f'tensorflow version: {tf.__version__}')\n",
    "print(f'keras version: {keras.__version__}')\n",
    "print('Num GPUs Available: ', len(tf.config.list_physical_devices('GPU')))"
   ]
  },
  {
   "cell_type": "markdown",
   "id": "b8c2fbd7",
   "metadata": {},
   "source": [
    "---"
   ]
  },
  {
   "cell_type": "code",
   "execution_count": 2,
   "id": "3a0d2044",
   "metadata": {},
   "outputs": [],
   "source": [
    "import numpy as np\n",
    "def heaviside(z):\n",
    "    return (z >= 0).astype(z.dtype)\n",
    "\n",
    "def mlp_xor(x1, x2, activation=heaviside):\n",
    "    return activation(-activation(x1 + x2 - 1.5) + activation(x1 + x2 - 0.5) - 0.5)\n",
    "\n",
    "# activation functions\n",
    "def sigmoid(z):\n",
    "    return 1 / (1 + np.exp(-z))\n",
    "\n",
    "def relu(z):\n",
    "    return np.maximum(0, z)\n",
    "\n",
    "def derivative(f, z, eps=0.000001):\n",
    "    return (f(z + eps) - f(z - eps))/(2 * eps)"
   ]
  },
  {
   "cell_type": "code",
   "execution_count": 3,
   "id": "5704198f",
   "metadata": {},
   "outputs": [],
   "source": [
    "np.set_printoptions(suppress=True, formatter={'float_kind':'{:f}'.format})"
   ]
  },
  {
   "cell_type": "code",
   "execution_count": 4,
   "id": "571fb68d",
   "metadata": {},
   "outputs": [
    {
     "name": "stdout",
     "output_type": "stream",
     "text": [
      "[-1.000000 0.000000 0.100000 0.500000 0.900000 1.000000 2.000000]\n",
      "[0.000000 0.000000 0.100000 0.500000 0.900000 1.000000 2.000000]\n",
      "[0.000000 0.500000 1.000000 1.000000 1.000000 1.000000 1.000000]\n"
     ]
    }
   ],
   "source": [
    "z = np.array([-1, 0, 0.1, 0.5, 0.9, 1, 2])\n",
    "print(z)\n",
    "print(relu(z))\n",
    "print(derivative(relu, z))"
   ]
  },
  {
   "cell_type": "code",
   "execution_count": 5,
   "id": "86fb060d",
   "metadata": {},
   "outputs": [
    {
     "name": "stdout",
     "output_type": "stream",
     "text": [
      "1e-06\n",
      "0.0\n",
      "1e-06\n",
      "2e-06\n",
      "0.5\n"
     ]
    }
   ],
   "source": [
    "eps=0.000001\n",
    "print(relu(0 + eps))\n",
    "print(relu(0 - eps))\n",
    "print(relu(0 + eps) - relu(0 - eps))\n",
    "print(2*eps)\n",
    "print(1e-06 / (2*eps))"
   ]
  },
  {
   "cell_type": "markdown",
   "id": "3bbddf2f",
   "metadata": {},
   "source": [
    "---"
   ]
  },
  {
   "cell_type": "code",
   "execution_count": 6,
   "id": "8b07e27b",
   "metadata": {},
   "outputs": [],
   "source": [
    "fashion_mnist = keras.datasets.fashion_mnist\n",
    "(X_train_full, y_train_full), (X_test, y_test) = fashion_mnist.load_data()"
   ]
  },
  {
   "cell_type": "code",
   "execution_count": 7,
   "id": "91c38e84",
   "metadata": {},
   "outputs": [
    {
     "data": {
      "text/plain": [
       "(60000, 28, 28)"
      ]
     },
     "execution_count": 7,
     "metadata": {},
     "output_type": "execute_result"
    }
   ],
   "source": [
    "X_train_full.shape"
   ]
  },
  {
   "cell_type": "code",
   "execution_count": 8,
   "id": "e01c47de",
   "metadata": {},
   "outputs": [
    {
     "data": {
      "text/plain": [
       "(60000,)"
      ]
     },
     "execution_count": 8,
     "metadata": {},
     "output_type": "execute_result"
    }
   ],
   "source": [
    "y_train_full.shape"
   ]
  },
  {
   "cell_type": "code",
   "execution_count": 9,
   "id": "424bf624",
   "metadata": {},
   "outputs": [
    {
     "data": {
      "text/plain": [
       "array([9, 0, 0, 3, 0, 2, 7, 2, 5, 5], dtype=uint8)"
      ]
     },
     "execution_count": 9,
     "metadata": {},
     "output_type": "execute_result"
    }
   ],
   "source": [
    "# category of clothing\n",
    "y_train_full[0:10]"
   ]
  },
  {
   "cell_type": "code",
   "execution_count": 10,
   "id": "6e8d7502",
   "metadata": {},
   "outputs": [],
   "source": [
    "X_valid, X_train = X_train_full[:5000] / 255., X_train_full[5000:] / 255.\n",
    "y_valid, y_train = y_train_full[:5000], y_train_full[5000:]\n",
    "X_test = X_test / 255."
   ]
  },
  {
   "cell_type": "code",
   "execution_count": 11,
   "id": "8c114ad6",
   "metadata": {},
   "outputs": [
    {
     "data": {
      "text/plain": [
       "10000"
      ]
     },
     "execution_count": 11,
     "metadata": {},
     "output_type": "execute_result"
    }
   ],
   "source": [
    "len(X_test)"
   ]
  },
  {
   "cell_type": "code",
   "execution_count": 12,
   "id": "d5ec167a",
   "metadata": {},
   "outputs": [
    {
     "data": {
      "text/plain": [
       "array([[0.000000],\n",
       "       [0.000000],\n",
       "       [0.000000],\n",
       "       [0.000000],\n",
       "       [0.000000],\n",
       "       [0.000000],\n",
       "       [0.000000],\n",
       "       [0.000000],\n",
       "       [0.000000],\n",
       "       [0.000000],\n",
       "       [0.000000],\n",
       "       [0.000000],\n",
       "       [0.000000],\n",
       "       [0.000000],\n",
       "       [0.000000],\n",
       "       [0.000000],\n",
       "       [0.000000],\n",
       "       [0.000000],\n",
       "       [0.000000],\n",
       "       [0.000000],\n",
       "       [0.000000],\n",
       "       [0.000000],\n",
       "       [0.000000],\n",
       "       [0.000000],\n",
       "       [0.000000],\n",
       "       [0.000000],\n",
       "       [0.000000],\n",
       "       [0.000000],\n",
       "       [0.000000],\n",
       "       [0.000000],\n",
       "       [0.000000],\n",
       "       [0.000000],\n",
       "       [0.000000],\n",
       "       [0.000000],\n",
       "       [0.000000],\n",
       "       [0.000000],\n",
       "       [0.000000],\n",
       "       [0.000000],\n",
       "       [0.000000],\n",
       "       [0.000000],\n",
       "       [0.000000],\n",
       "       [0.000000],\n",
       "       [0.000000],\n",
       "       [0.000000],\n",
       "       [0.000000],\n",
       "       [0.000000],\n",
       "       [0.000000],\n",
       "       [0.000000],\n",
       "       [0.000000],\n",
       "       [0.000000],\n",
       "       [0.000000],\n",
       "       [0.000000],\n",
       "       [0.000000],\n",
       "       [0.000000],\n",
       "       [0.000000],\n",
       "       [0.000000],\n",
       "       [0.000000],\n",
       "       [0.000000],\n",
       "       [0.000000],\n",
       "       [0.000000],\n",
       "       [0.000000],\n",
       "       [0.000000],\n",
       "       [0.000000],\n",
       "       [0.000000],\n",
       "       [0.000000],\n",
       "       [0.000000],\n",
       "       [0.000000],\n",
       "       [0.000000],\n",
       "       [0.000000],\n",
       "       [0.000000],\n",
       "       [0.000000],\n",
       "       [0.000000],\n",
       "       [0.000000],\n",
       "       [0.000000],\n",
       "       [0.000000],\n",
       "       [0.000000],\n",
       "       [0.000000],\n",
       "       [0.000000],\n",
       "       [0.000000],\n",
       "       [0.000000],\n",
       "       [0.000000],\n",
       "       [0.000000],\n",
       "       [0.000000],\n",
       "       [0.000000],\n",
       "       [0.000000],\n",
       "       [0.000000],\n",
       "       [0.000000],\n",
       "       [0.000000],\n",
       "       [0.000000],\n",
       "       [0.000000],\n",
       "       [0.000000],\n",
       "       [0.000000],\n",
       "       [0.000000],\n",
       "       [0.000000],\n",
       "       [0.000000],\n",
       "       [0.000000],\n",
       "       [0.000000],\n",
       "       [0.000000],\n",
       "       [0.000000],\n",
       "       [0.000000],\n",
       "       [0.000000],\n",
       "       [0.000000],\n",
       "       [0.000000],\n",
       "       [0.000000],\n",
       "       [0.000000],\n",
       "       [0.000000],\n",
       "       [0.000000],\n",
       "       [0.000000],\n",
       "       [0.000000],\n",
       "       [0.000000],\n",
       "       [0.000000],\n",
       "       [0.000000],\n",
       "       [0.000000],\n",
       "       [0.000000],\n",
       "       [0.000000],\n",
       "       [0.000000],\n",
       "       [0.000000],\n",
       "       [0.000000],\n",
       "       [0.000000],\n",
       "       [0.000000],\n",
       "       [0.000000],\n",
       "       [0.000000],\n",
       "       [0.000000],\n",
       "       [0.000000],\n",
       "       [0.000000],\n",
       "       [0.000000],\n",
       "       [0.000000],\n",
       "       [0.000000],\n",
       "       [0.000000],\n",
       "       [0.000000],\n",
       "       [0.000000],\n",
       "       [0.000000],\n",
       "       [0.000000],\n",
       "       [0.000000],\n",
       "       [0.000000],\n",
       "       [0.000000],\n",
       "       [0.000000],\n",
       "       [0.000000],\n",
       "       [0.000000],\n",
       "       [0.000000],\n",
       "       [0.000000],\n",
       "       [0.000000],\n",
       "       [0.000000],\n",
       "       [0.000000],\n",
       "       [0.000000],\n",
       "       [0.000000],\n",
       "       [0.000000],\n",
       "       [0.000000],\n",
       "       [0.000000],\n",
       "       [0.000000],\n",
       "       [0.000000],\n",
       "       [0.000000],\n",
       "       [0.000000],\n",
       "       [0.000000],\n",
       "       [0.000000],\n",
       "       [0.000000],\n",
       "       [0.000000],\n",
       "       [0.000000],\n",
       "       [0.000000],\n",
       "       [0.000000],\n",
       "       [0.000000],\n",
       "       [0.000000],\n",
       "       [0.000000],\n",
       "       [0.000000],\n",
       "       [0.000000],\n",
       "       [0.000000],\n",
       "       [0.000000],\n",
       "       [0.000000],\n",
       "       [0.000000],\n",
       "       [0.000000],\n",
       "       [0.000000],\n",
       "       [0.000000],\n",
       "       [0.000000],\n",
       "       [0.000000],\n",
       "       [0.000000],\n",
       "       [0.000000],\n",
       "       [0.000000],\n",
       "       [0.000000],\n",
       "       [0.000000],\n",
       "       [0.000000],\n",
       "       [0.000000],\n",
       "       [0.000000],\n",
       "       [0.000000],\n",
       "       [0.000000],\n",
       "       [0.000000],\n",
       "       [0.000000],\n",
       "       [0.000000],\n",
       "       [0.000000],\n",
       "       [0.000000],\n",
       "       [0.000000],\n",
       "       [0.000000],\n",
       "       [0.000000],\n",
       "       [0.000000],\n",
       "       [0.000000],\n",
       "       [0.000000],\n",
       "       [0.000000],\n",
       "       [0.000000],\n",
       "       [0.000000],\n",
       "       [0.000000],\n",
       "       [0.000000],\n",
       "       [0.000000],\n",
       "       [0.000000],\n",
       "       [0.000000],\n",
       "       [0.000000],\n",
       "       [0.000000],\n",
       "       [0.000000],\n",
       "       [0.000000],\n",
       "       [0.000000],\n",
       "       [0.000000],\n",
       "       [0.000000],\n",
       "       [0.000000],\n",
       "       [0.000000],\n",
       "       [0.000000],\n",
       "       [0.000000],\n",
       "       [0.000000],\n",
       "       [0.011765],\n",
       "       [0.003922],\n",
       "       [0.000000],\n",
       "       [0.000000],\n",
       "       [0.027451],\n",
       "       [0.000000],\n",
       "       [0.145098],\n",
       "       [0.000000],\n",
       "       [0.000000],\n",
       "       [0.000000],\n",
       "       [0.000000],\n",
       "       [0.000000],\n",
       "       [0.000000],\n",
       "       [0.000000],\n",
       "       [0.000000],\n",
       "       [0.000000],\n",
       "       [0.000000],\n",
       "       [0.000000],\n",
       "       [0.000000],\n",
       "       [0.000000],\n",
       "       [0.000000],\n",
       "       [0.000000],\n",
       "       [0.003922],\n",
       "       [0.007843],\n",
       "       [0.000000],\n",
       "       [0.105882],\n",
       "       [0.329412],\n",
       "       [0.043137],\n",
       "       [0.000000],\n",
       "       [0.000000],\n",
       "       [0.000000],\n",
       "       [0.000000],\n",
       "       [0.000000],\n",
       "       [0.000000],\n",
       "       [0.466667],\n",
       "       [0.000000],\n",
       "       [0.000000],\n",
       "       [0.000000],\n",
       "       [0.000000],\n",
       "       [0.000000],\n",
       "       [0.000000],\n",
       "       [0.000000],\n",
       "       [0.000000],\n",
       "       [0.000000],\n",
       "       [0.000000],\n",
       "       [0.000000],\n",
       "       [0.000000],\n",
       "       [0.000000],\n",
       "       [0.000000],\n",
       "       [0.000000],\n",
       "       [0.003922],\n",
       "       [0.000000],\n",
       "       [0.000000],\n",
       "       [0.345098],\n",
       "       [0.560784],\n",
       "       [0.431373],\n",
       "       [0.000000],\n",
       "       [0.000000],\n",
       "       [0.000000],\n",
       "       [0.000000],\n",
       "       [0.086275],\n",
       "       [0.364706],\n",
       "       [0.415686],\n",
       "       [0.000000],\n",
       "       [0.000000],\n",
       "       [0.000000],\n",
       "       [0.000000],\n",
       "       [0.000000],\n",
       "       [0.000000],\n",
       "       [0.000000],\n",
       "       [0.000000],\n",
       "       [0.000000],\n",
       "       [0.000000],\n",
       "       [0.000000],\n",
       "       [0.000000],\n",
       "       [0.000000],\n",
       "       [0.000000],\n",
       "       [0.000000],\n",
       "       [0.015686],\n",
       "       [0.000000],\n",
       "       [0.207843],\n",
       "       [0.505882],\n",
       "       [0.470588],\n",
       "       [0.576471],\n",
       "       [0.686275]])"
      ]
     },
     "execution_count": 12,
     "metadata": {},
     "output_type": "execute_result"
    }
   ],
   "source": [
    "X_test[0].reshape(-1, 1)[0:300]"
   ]
  },
  {
   "cell_type": "code",
   "execution_count": 13,
   "id": "f9bbfe12",
   "metadata": {},
   "outputs": [
    {
     "data": {
      "image/png": "[encoded data removed]",
      "text/plain": [
       "<Figure size 432x288 with 1 Axes>"
      ]
     },
     "metadata": {
      "needs_background": "light"
     },
     "output_type": "display_data"
    }
   ],
   "source": [
    "plt.imshow(X_train[0], cmap=\"binary\")\n",
    "plt.axis('off')\n",
    "plt.show()"
   ]
  },
  {
   "cell_type": "code",
   "execution_count": 14,
   "id": "468d2fb0",
   "metadata": {},
   "outputs": [],
   "source": [
    "class_names = [\"T-shirt/top\", \"Trouser\", \"Pullover\", \"Dress\", \"Coat\",\n",
    "               \"Sandal\", \"Shirt\", \"Sneaker\", \"Bag\", \"Ankle boot\"]"
   ]
  },
  {
   "cell_type": "code",
   "execution_count": 15,
   "id": "f4f60c02",
   "metadata": {},
   "outputs": [
    {
     "data": {
      "text/plain": [
       "'Coat'"
      ]
     },
     "execution_count": 15,
     "metadata": {},
     "output_type": "execute_result"
    }
   ],
   "source": [
    "class_names[y_train[0]]"
   ]
  },
  {
   "cell_type": "code",
   "execution_count": 16,
   "id": "ecc6170b",
   "metadata": {},
   "outputs": [
    {
     "data": {
      "image/png": "[encoded data removed]",
      "text/plain": [
       "<Figure size 864x345.6 with 40 Axes>"
      ]
     },
     "metadata": {
      "needs_background": "light"
     },
     "output_type": "display_data"
    }
   ],
   "source": [
    "n_rows = 4\n",
    "n_cols = 10\n",
    "plt.figure(figsize=(n_cols * 1.2, n_rows * 1.2))\n",
    "for row in range(n_rows):\n",
    "    for col in range(n_cols):\n",
    "        index = n_cols * row + col\n",
    "        plt.subplot(n_rows, n_cols, index + 1)\n",
    "        plt.imshow(X_train[index], cmap=\"binary\", interpolation=\"nearest\")\n",
    "        plt.axis('off')\n",
    "        plt.title(class_names[y_train[index]], fontsize=12)\n",
    "plt.subplots_adjust(wspace=0.2, hspace=0.5)\n",
    "#save_fig('fashion_mnist_plot', tight_layout=False)\n",
    "plt.show()"
   ]
  },
  {
   "cell_type": "code",
   "execution_count": 17,
   "id": "fd967bc8",
   "metadata": {},
   "outputs": [
    {
     "name": "stdout",
     "output_type": "stream",
     "text": [
      "Model: \"sequential\"\n",
      "_________________________________________________________________\n",
      " Layer (type)                Output Shape              Param #   \n",
      "=================================================================\n",
      " flatten (Flatten)           (None, 784)               0         \n",
      "                                                                 \n",
      " dense (Dense)               (None, 300)               235500    \n",
      "                                                                 \n",
      " dense_1 (Dense)             (None, 100)               30100     \n",
      "                                                                 \n",
      " dense_2 (Dense)             (None, 10)                1010      \n",
      "                                                                 \n",
      "=================================================================\n",
      "Total params: 266,610\n",
      "Trainable params: 266,610\n",
      "Non-trainable params: 0\n",
      "_________________________________________________________________\n"
     ]
    },
    {
     "name": "stderr",
     "output_type": "stream",
     "text": [
      "2022-07-08 03:52:50.564686: I tensorflow/core/platform/cpu_feature_guard.cc:193] This TensorFlow binary is optimized with oneAPI Deep Neural Network Library (oneDNN) to use the following CPU instructions in performance-critical operations:  AVX2 FMA\n",
      "To enable them in other operations, rebuild TensorFlow with the appropriate compiler flags.\n",
      "2022-07-08 03:52:51.085429: I tensorflow/core/common_runtime/gpu/gpu_device.cc:1532] Created device /job:localhost/replica:0/task:0/device:GPU:0 with 10399 MB memory:  -> device: 0, name: NVIDIA GeForce GTX 1080 Ti, pci bus id: 0000:05:00.0, compute capability: 6.1\n"
     ]
    }
   ],
   "source": [
    "model = keras.models.Sequential()\n",
    "model.add(keras.layers.Flatten(input_shape=[28, 28]))\n",
    "model.add(keras.layers.Dense(300, activation=\"relu\"))\n",
    "model.add(keras.layers.Dense(100, activation=\"relu\"))\n",
    "model.add(keras.layers.Dense(10, activation=\"softmax\"))\n",
    "model.summary()"
   ]
  },
  {
   "cell_type": "code",
   "execution_count": 18,
   "id": "edb86616",
   "metadata": {},
   "outputs": [],
   "source": [
    "model.compile(loss=\"sparse_categorical_crossentropy\",\n",
    "              optimizer=\"sgd\",\n",
    "              metrics=[\"accuracy\"])"
   ]
  },
  {
   "cell_type": "code",
   "execution_count": 22,
   "id": "2ac2c57e",
   "metadata": {},
   "outputs": [
    {
     "data": {
      "text/plain": [
       "1718.75"
      ]
     },
     "execution_count": 22,
     "metadata": {},
     "output_type": "execute_result"
    }
   ],
   "source": [
    "# note the 1719 shown during training is not training size it is number of batches\n",
    "len(X_train) / 32"
   ]
  },
  {
   "cell_type": "code",
   "execution_count": 23,
   "id": "6c6e925a",
   "metadata": {},
   "outputs": [
    {
     "name": "stdout",
     "output_type": "stream",
     "text": [
      "Epoch 1/30\n",
      "1719/1719 [==============================] - 8s 4ms/step - loss: 0.2208 - accuracy: 0.9216 - val_loss: 0.2966 - val_accuracy: 0.8884\n",
      "Epoch 2/30\n",
      "1719/1719 [==============================] - 8s 5ms/step - loss: 0.2181 - accuracy: 0.9219 - val_loss: 0.3005 - val_accuracy: 0.8916\n",
      "Epoch 3/30\n",
      "1719/1719 [==============================] - 8s 4ms/step - loss: 0.2142 - accuracy: 0.9232 - val_loss: 0.3167 - val_accuracy: 0.8848\n",
      "Epoch 4/30\n",
      "1719/1719 [==============================] - 8s 4ms/step - loss: 0.2104 - accuracy: 0.9257 - val_loss: 0.3017 - val_accuracy: 0.8912\n",
      "Epoch 5/30\n",
      "1719/1719 [==============================] - 8s 4ms/step - loss: 0.2074 - accuracy: 0.9259 - val_loss: 0.2920 - val_accuracy: 0.8932\n",
      "Epoch 6/30\n",
      "1719/1719 [==============================] - 8s 4ms/step - loss: 0.2041 - accuracy: 0.9276 - val_loss: 0.2960 - val_accuracy: 0.8920\n",
      "Epoch 7/30\n",
      "1719/1719 [==============================] - 8s 4ms/step - loss: 0.2014 - accuracy: 0.9281 - val_loss: 0.2964 - val_accuracy: 0.8882\n",
      "Epoch 8/30\n",
      "1719/1719 [==============================] - 8s 4ms/step - loss: 0.1977 - accuracy: 0.9294 - val_loss: 0.2953 - val_accuracy: 0.8908\n",
      "Epoch 9/30\n",
      "1719/1719 [==============================] - 8s 4ms/step - loss: 0.1948 - accuracy: 0.9301 - val_loss: 0.2991 - val_accuracy: 0.8910\n",
      "Epoch 10/30\n",
      "1719/1719 [==============================] - 8s 4ms/step - loss: 0.1913 - accuracy: 0.9326 - val_loss: 0.2832 - val_accuracy: 0.8966\n",
      "Epoch 11/30\n",
      "1719/1719 [==============================] - 8s 4ms/step - loss: 0.1898 - accuracy: 0.9327 - val_loss: 0.2885 - val_accuracy: 0.8968\n",
      "Epoch 12/30\n",
      "1719/1719 [==============================] - 8s 4ms/step - loss: 0.1857 - accuracy: 0.9351 - val_loss: 0.2977 - val_accuracy: 0.8920\n",
      "Epoch 13/30\n",
      "1719/1719 [==============================] - 8s 4ms/step - loss: 0.1824 - accuracy: 0.9359 - val_loss: 0.2919 - val_accuracy: 0.8940\n",
      "Epoch 14/30\n",
      "1719/1719 [==============================] - 8s 4ms/step - loss: 0.1799 - accuracy: 0.9355 - val_loss: 0.2881 - val_accuracy: 0.8958\n",
      "Epoch 15/30\n",
      "1719/1719 [==============================] - 8s 4ms/step - loss: 0.1776 - accuracy: 0.9371 - val_loss: 0.2784 - val_accuracy: 0.9022\n",
      "Epoch 16/30\n",
      "1719/1719 [==============================] - 8s 4ms/step - loss: 0.1744 - accuracy: 0.9382 - val_loss: 0.2942 - val_accuracy: 0.8950\n",
      "Epoch 17/30\n",
      "1719/1719 [==============================] - 8s 5ms/step - loss: 0.1715 - accuracy: 0.9383 - val_loss: 0.2986 - val_accuracy: 0.8960\n",
      "Epoch 18/30\n",
      "1719/1719 [==============================] - 8s 4ms/step - loss: 0.1695 - accuracy: 0.9397 - val_loss: 0.3044 - val_accuracy: 0.8888\n",
      "Epoch 19/30\n",
      "1719/1719 [==============================] - 8s 4ms/step - loss: 0.1667 - accuracy: 0.9415 - val_loss: 0.2886 - val_accuracy: 0.8954\n",
      "Epoch 20/30\n",
      "1719/1719 [==============================] - 8s 4ms/step - loss: 0.1635 - accuracy: 0.9419 - val_loss: 0.2923 - val_accuracy: 0.8968\n",
      "Epoch 21/30\n",
      "1719/1719 [==============================] - 8s 5ms/step - loss: 0.1601 - accuracy: 0.9438 - val_loss: 0.3017 - val_accuracy: 0.8948\n",
      "Epoch 22/30\n",
      "1719/1719 [==============================] - 8s 5ms/step - loss: 0.1595 - accuracy: 0.9435 - val_loss: 0.3064 - val_accuracy: 0.8938\n",
      "Epoch 23/30\n",
      "1719/1719 [==============================] - 8s 5ms/step - loss: 0.1565 - accuracy: 0.9440 - val_loss: 0.2954 - val_accuracy: 0.8958\n",
      "Epoch 24/30\n",
      "1719/1719 [==============================] - 8s 5ms/step - loss: 0.1540 - accuracy: 0.9451 - val_loss: 0.2894 - val_accuracy: 0.8970\n",
      "Epoch 25/30\n",
      "1719/1719 [==============================] - 8s 4ms/step - loss: 0.1510 - accuracy: 0.9459 - val_loss: 0.2971 - val_accuracy: 0.8968\n",
      "Epoch 26/30\n",
      "1719/1719 [==============================] - 8s 5ms/step - loss: 0.1494 - accuracy: 0.9475 - val_loss: 0.3160 - val_accuracy: 0.8868\n",
      "Epoch 27/30\n",
      "1719/1719 [==============================] - 8s 5ms/step - loss: 0.1466 - accuracy: 0.9482 - val_loss: 0.2901 - val_accuracy: 0.8978\n",
      "Epoch 28/30\n",
      "1719/1719 [==============================] - 8s 5ms/step - loss: 0.1441 - accuracy: 0.9499 - val_loss: 0.3007 - val_accuracy: 0.8934\n",
      "Epoch 29/30\n",
      "1719/1719 [==============================] - 8s 5ms/step - loss: 0.1419 - accuracy: 0.9502 - val_loss: 0.2945 - val_accuracy: 0.8974\n",
      "Epoch 30/30\n",
      "1719/1719 [==============================] - 8s 5ms/step - loss: 0.1396 - accuracy: 0.9510 - val_loss: 0.2924 - val_accuracy: 0.9002\n"
     ]
    }
   ],
   "source": [
    "history = model.fit(X_train, y_train, epochs=30,\n",
    "                    validation_data=(X_valid, y_valid))"
   ]
  },
  {
   "cell_type": "code",
   "execution_count": 24,
   "id": "a62a2410",
   "metadata": {},
   "outputs": [
    {
     "data": {
      "text/plain": [
       "dict_keys(['loss', 'accuracy', 'val_loss', 'val_accuracy'])"
      ]
     },
     "execution_count": 24,
     "metadata": {},
     "output_type": "execute_result"
    }
   ],
   "source": [
    "history.history.keys()"
   ]
  },
  {
   "cell_type": "code",
   "execution_count": 25,
   "id": "1481e14b",
   "metadata": {},
   "outputs": [
    {
     "data": {
      "image/png": "[encoded data removed]",
      "text/plain": [
       "<Figure size 576x360 with 1 Axes>"
      ]
     },
     "metadata": {
      "needs_background": "light"
     },
     "output_type": "display_data"
    }
   ],
   "source": [
    "import pandas as pd\n",
    "\n",
    "pd.DataFrame(history.history).plot(figsize=(8, 5))\n",
    "plt.grid(True)\n",
    "plt.gca().set_ylim(0, 1)\n",
    "plt.show()"
   ]
  },
  {
   "cell_type": "code",
   "execution_count": 30,
   "id": "74efd53f",
   "metadata": {},
   "outputs": [
    {
     "data": {
      "text/plain": [
       "312.5"
      ]
     },
     "execution_count": 30,
     "metadata": {},
     "output_type": "execute_result"
    }
   ],
   "source": [
    "# note the 313 shown during training is not training size it is number of batches\n",
    "len(X_test) / 32"
   ]
  },
  {
   "cell_type": "code",
   "execution_count": 31,
   "id": "8fee95d6",
   "metadata": {},
   "outputs": [
    {
     "name": "stdout",
     "output_type": "stream",
     "text": [
      "313/313 [==============================] - 1s 3ms/step - loss: 0.3414 - accuracy: 0.8917\n"
     ]
    },
    {
     "data": {
      "text/plain": [
       "[0.3414066731929779, 0.891700029373169]"
      ]
     },
     "execution_count": 31,
     "metadata": {},
     "output_type": "execute_result"
    }
   ],
   "source": [
    "model.evaluate(X_test, y_test)"
   ]
  },
  {
   "cell_type": "code",
   "execution_count": 32,
   "id": "fb60d8e9",
   "metadata": {},
   "outputs": [
    {
     "name": "stdout",
     "output_type": "stream",
     "text": [
      "1/1 [==============================] - 0s 111ms/step\n"
     ]
    },
    {
     "data": {
      "text/plain": [
       "array([[0.000000, 0.000000, 0.000000, 0.000000, 0.000000, 0.000000,\n",
       "        0.000000, 0.000000, 0.000000, 1.000000],\n",
       "       [0.000000, 0.000000, 1.000000, 0.000000, 0.000000, 0.000000,\n",
       "        0.000000, 0.000000, 0.000000, 0.000000],\n",
       "       [0.000000, 1.000000, 0.000000, 0.000000, 0.000000, 0.000000,\n",
       "        0.000000, 0.000000, 0.000000, 0.000000]], dtype=float32)"
      ]
     },
     "execution_count": 32,
     "metadata": {},
     "output_type": "execute_result"
    }
   ],
   "source": [
    "X_new = X_test[:3]\n",
    "y_proba = model.predict(X_new)\n",
    "y_proba.round(2)"
   ]
  },
  {
   "cell_type": "code",
   "execution_count": 33,
   "id": "428d6985",
   "metadata": {},
   "outputs": [
    {
     "data": {
      "image/png": "[encoded data removed]",
      "text/plain": [
       "<Figure size 518.4x172.8 with 3 Axes>"
      ]
     },
     "metadata": {
      "needs_background": "light"
     },
     "output_type": "display_data"
    }
   ],
   "source": [
    "plt.figure(figsize=(7.2, 2.4))\n",
    "for index, image in enumerate(X_new):\n",
    "    plt.subplot(1, 3, index + 1)\n",
    "    plt.imshow(image, cmap=\"binary\", interpolation=\"nearest\")\n",
    "    plt.axis('off')\n",
    "    plt.title(class_names[y_test[index]], fontsize=12)\n",
    "plt.subplots_adjust(wspace=0.2, hspace=0.5)\n",
    "plt.show()"
   ]
  },
  {
   "cell_type": "markdown",
   "id": "44211e0f",
   "metadata": {},
   "source": [
    "**Warning**: `model.predict_classes(X_new)` is deprecated. It is replaced with `np.argmax(model.predict(X_new), axis=-1)`.\n",
    "\n",
    "https://stackoverflow.com/questions/68776790/model-predict-classes-is-deprecated-what-to-use-instead"
   ]
  },
  {
   "cell_type": "code",
   "execution_count": 46,
   "id": "ef23cebb",
   "metadata": {},
   "outputs": [
    {
     "name": "stdout",
     "output_type": "stream",
     "text": [
      "1/1 [==============================] - 0s 23ms/step\n"
     ]
    },
    {
     "data": {
      "text/plain": [
       "array([9, 2, 1])"
      ]
     },
     "execution_count": 46,
     "metadata": {},
     "output_type": "execute_result"
    }
   ],
   "source": [
    "import numpy as np\n",
    "np.argmax(model.predict(X_new), axis=-1)"
   ]
  },
  {
   "cell_type": "markdown",
   "id": "dd136e70",
   "metadata": {},
   "source": [
    "---"
   ]
  },
  {
   "cell_type": "markdown",
   "id": "fe2aca9e",
   "metadata": {},
   "source": [
    "# TensorBoard"
   ]
  },
  {
   "cell_type": "code",
   "execution_count": 2,
   "id": "ca294f3e",
   "metadata": {},
   "outputs": [],
   "source": [
    "from sklearn.datasets import fetch_california_housing\n",
    "from sklearn.model_selection import train_test_split\n",
    "from sklearn.preprocessing import StandardScaler\n",
    "\n",
    "housing = fetch_california_housing()\n",
    "\n",
    "X_train_full, X_test, y_train_full, y_test = train_test_split(housing.data, housing.target, random_state=42)\n",
    "X_train, X_valid, y_train, y_valid = train_test_split(X_train_full, y_train_full, random_state=42)\n",
    "\n",
    "scaler = StandardScaler()\n",
    "X_train = scaler.fit_transform(X_train)\n",
    "X_valid = scaler.transform(X_valid)\n",
    "X_test = scaler.transform(X_test)"
   ]
  },
  {
   "cell_type": "code",
   "execution_count": 3,
   "id": "e834843d",
   "metadata": {},
   "outputs": [
    {
     "name": "stdout",
     "output_type": "stream",
     "text": [
      "./tensorflow_logs\n"
     ]
    }
   ],
   "source": [
    "import os\n",
    "import numpy as np\n",
    "root_logdir = os.path.join(os.curdir, \"tensorflow_logs\")\n",
    "print(root_logdir)"
   ]
  },
  {
   "cell_type": "code",
   "execution_count": 4,
   "id": "a696feaf",
   "metadata": {},
   "outputs": [
    {
     "data": {
      "text/plain": [
       "'./tensorflow_logs/run_2022_07_08-02_16_24'"
      ]
     },
     "execution_count": 4,
     "metadata": {},
     "output_type": "execute_result"
    }
   ],
   "source": [
    "def get_run_logdir():\n",
    "    import time\n",
    "    run_id = time.strftime(\"run_%Y_%m_%d-%H_%M_%S\")\n",
    "    return os.path.join(root_logdir, run_id)\n",
    "\n",
    "run_logdir = get_run_logdir()\n",
    "run_logdir"
   ]
  },
  {
   "cell_type": "code",
   "execution_count": 5,
   "id": "61f922d8",
   "metadata": {},
   "outputs": [],
   "source": [
    "keras.backend.clear_session()\n",
    "np.random.seed(42)\n",
    "tf.random.set_seed(42)"
   ]
  },
  {
   "cell_type": "code",
   "execution_count": 6,
   "id": "82e626cd",
   "metadata": {},
   "outputs": [
    {
     "name": "stderr",
     "output_type": "stream",
     "text": [
      "2022-07-08 02:16:25.235337: I tensorflow/core/platform/cpu_feature_guard.cc:193] This TensorFlow binary is optimized with oneAPI Deep Neural Network Library (oneDNN) to use the following CPU instructions in performance-critical operations:  AVX2 FMA\n",
      "To enable them in other operations, rebuild TensorFlow with the appropriate compiler flags.\n",
      "2022-07-08 02:16:25.853518: I tensorflow/core/common_runtime/gpu/gpu_device.cc:1532] Created device /job:localhost/replica:0/task:0/device:GPU:0 with 10399 MB memory:  -> device: 0, name: NVIDIA GeForce GTX 1080 Ti, pci bus id: 0000:05:00.0, compute capability: 6.1\n"
     ]
    }
   ],
   "source": [
    "model = keras.models.Sequential([\n",
    "    keras.layers.Dense(30, activation=\"relu\", input_shape=[8]),\n",
    "    keras.layers.Dense(30, activation=\"relu\"),\n",
    "    keras.layers.Dense(1)\n",
    "])    \n",
    "model.compile(loss=\"mse\", optimizer=keras.optimizers.SGD(learning_rate=1e-3))"
   ]
  },
  {
   "cell_type": "code",
   "execution_count": 7,
   "id": "2280ca2f",
   "metadata": {},
   "outputs": [
    {
     "name": "stdout",
     "output_type": "stream",
     "text": [
      "Epoch 1/30\n",
      "363/363 [==============================] - 2s 5ms/step - loss: 1.8866 - val_loss: 0.7126\n",
      "Epoch 2/30\n",
      "363/363 [==============================] - 2s 5ms/step - loss: 0.6577 - val_loss: 0.6880\n",
      "Epoch 3/30\n",
      "363/363 [==============================] - 2s 5ms/step - loss: 0.5934 - val_loss: 0.5803\n",
      "Epoch 4/30\n",
      "363/363 [==============================] - 2s 5ms/step - loss: 0.5557 - val_loss: 0.5166\n",
      "Epoch 5/30\n",
      "363/363 [==============================] - 2s 5ms/step - loss: 0.5272 - val_loss: 0.4895\n",
      "Epoch 6/30\n",
      "363/363 [==============================] - 2s 5ms/step - loss: 0.5033 - val_loss: 0.4951\n",
      "Epoch 7/30\n",
      "363/363 [==============================] - 2s 5ms/step - loss: 0.4854 - val_loss: 0.4861\n",
      "Epoch 8/30\n",
      "363/363 [==============================] - 2s 5ms/step - loss: 0.4709 - val_loss: 0.4554\n",
      "Epoch 9/30\n",
      "363/363 [==============================] - 2s 5ms/step - loss: 0.4578 - val_loss: 0.4413\n",
      "Epoch 10/30\n",
      "363/363 [==============================] - 2s 5ms/step - loss: 0.4474 - val_loss: 0.4379\n",
      "Epoch 11/30\n",
      "363/363 [==============================] - 2s 5ms/step - loss: 0.4393 - val_loss: 0.4396\n",
      "Epoch 12/30\n",
      "363/363 [==============================] - 2s 5ms/step - loss: 0.4318 - val_loss: 0.4507\n",
      "Epoch 13/30\n",
      "363/363 [==============================] - 2s 5ms/step - loss: 0.4261 - val_loss: 0.3997\n",
      "Epoch 14/30\n",
      "363/363 [==============================] - 2s 5ms/step - loss: 0.4202 - val_loss: 0.3956\n",
      "Epoch 15/30\n",
      "363/363 [==============================] - 2s 5ms/step - loss: 0.4155 - val_loss: 0.3916\n",
      "Epoch 16/30\n",
      "363/363 [==============================] - 2s 5ms/step - loss: 0.4112 - val_loss: 0.3937\n",
      "Epoch 17/30\n",
      "363/363 [==============================] - 2s 5ms/step - loss: 0.4077 - val_loss: 0.3809\n",
      "Epoch 18/30\n",
      "363/363 [==============================] - 2s 5ms/step - loss: 0.4040 - val_loss: 0.3793\n",
      "Epoch 19/30\n",
      "363/363 [==============================] - 2s 5ms/step - loss: 0.4004 - val_loss: 0.3850\n",
      "Epoch 20/30\n",
      "363/363 [==============================] - 2s 5ms/step - loss: 0.3980 - val_loss: 0.3809\n",
      "Epoch 21/30\n",
      "363/363 [==============================] - 2s 5ms/step - loss: 0.3949 - val_loss: 0.3701\n",
      "Epoch 22/30\n",
      "363/363 [==============================] - 2s 5ms/step - loss: 0.3924 - val_loss: 0.3781\n",
      "Epoch 23/30\n",
      "363/363 [==============================] - 2s 5ms/step - loss: 0.3898 - val_loss: 0.3650\n",
      "Epoch 24/30\n",
      "363/363 [==============================] - 2s 5ms/step - loss: 0.3874 - val_loss: 0.3655\n",
      "Epoch 25/30\n",
      "363/363 [==============================] - 2s 5ms/step - loss: 0.3851 - val_loss: 0.3611\n",
      "Epoch 26/30\n",
      "363/363 [==============================] - 2s 5ms/step - loss: 0.3829 - val_loss: 0.3626\n",
      "Epoch 27/30\n",
      "363/363 [==============================] - 2s 5ms/step - loss: 0.3809 - val_loss: 0.3564\n",
      "Epoch 28/30\n",
      "363/363 [==============================] - 2s 5ms/step - loss: 0.3788 - val_loss: 0.3579\n",
      "Epoch 29/30\n",
      "363/363 [==============================] - 2s 5ms/step - loss: 0.3769 - val_loss: 0.3561\n",
      "Epoch 30/30\n",
      "363/363 [==============================] - 2s 5ms/step - loss: 0.3750 - val_loss: 0.3548\n"
     ]
    }
   ],
   "source": [
    "tensorboard_cb = keras.callbacks.TensorBoard(run_logdir)\n",
    "checkpoint_cb = keras.callbacks.ModelCheckpoint(\"my_keras_model.h5\", save_best_only=True)\n",
    "history = model.fit(\n",
    "    X_train, y_train, epochs=30,\n",
    "    validation_data=(X_valid, y_valid),\n",
    "    callbacks=[checkpoint_cb, tensorboard_cb]\n",
    ")"
   ]
  },
  {
   "cell_type": "code",
   "execution_count": 38,
   "id": "9660d08d",
   "metadata": {},
   "outputs": [],
   "source": [
    "# %load_ext tensorboard\n",
    "# %tensorboard --logdir=.my_logs --port=6006"
   ]
  },
  {
   "cell_type": "markdown",
   "id": "dc101695",
   "metadata": {},
   "source": [
    "---"
   ]
  }
 ],
 "metadata": {
  "kernelspec": {
   "display_name": "Python 3 (ipykernel)",
   "language": "python",
   "name": "python3"
  },
  "language_info": {
   "codemirror_mode": {
    "name": "ipython",
    "version": 3
   },
   "file_extension": ".py",
   "mimetype": "text/x-python",
   "name": "python",
   "nbconvert_exporter": "python",
   "pygments_lexer": "ipython3",
   "version": "3.9.5"
  }
 },
 "nbformat": 4,
 "nbformat_minor": 5
}
